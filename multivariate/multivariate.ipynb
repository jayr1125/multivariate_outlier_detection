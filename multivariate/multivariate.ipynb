{
 "cells": [
  {
   "cell_type": "markdown",
   "metadata": {},
   "source": [
    "## <b>Multivariate Outlier Detection</b>"
   ]
  },
  {
   "cell_type": "markdown",
   "metadata": {},
   "source": [
    "This notebook shows three methods on multivariate outlier detection."
   ]
  },
  {
   "cell_type": "markdown",
   "metadata": {},
   "source": [
    "<i>Method 1</i>: Z-score Analysis\n",
    "\n",
    "<i>Method 2</i>: Isolation Forest\n",
    "\n",
    "<i>Method 3</i>: Principal Component Analysis"
   ]
  },
  {
   "cell_type": "markdown",
   "metadata": {},
   "source": [
    " "
   ]
  },
  {
   "cell_type": "markdown",
   "metadata": {},
   "source": [
    "## Import the Libraries"
   ]
  },
  {
   "cell_type": "code",
   "execution_count": 3,
   "metadata": {},
   "outputs": [],
   "source": [
    "#for numerical analysis\n",
    "import numpy as np\n",
    "\n",
    "#for data preprocessing\n",
    "import pandas as pd\n",
    "\n",
    "#for visualization\n",
    "import seaborn as sns\n",
    "import matplotlib.pyplot as plt"
   ]
  },
  {
   "cell_type": "markdown",
   "metadata": {},
   "source": [
    "## Load the Dataset"
   ]
  },
  {
   "cell_type": "code",
   "execution_count": 9,
   "metadata": {},
   "outputs": [],
   "source": [
    "#we could use pandas' read csv feature to load our dataset\n",
    "dataset = pd.read_csv('assignment.csv')"
   ]
  },
  {
   "cell_type": "markdown",
   "metadata": {},
   "source": [
    "## Exploratory Data Analysis"
   ]
  },
  {
   "cell_type": "code",
   "execution_count": 6,
   "metadata": {},
   "outputs": [
    {
     "name": "stdout",
     "output_type": "stream",
     "text": [
      "          x         y         z\n",
      "0 -0.341205 -0.329153 -0.115530\n",
      "1 -0.629867 -0.481546  0.016993\n",
      "2 -0.841906 -0.979988 -0.191260\n",
      "3  0.298766  0.214716 -1.130165\n",
      "4 -0.761079 -1.195055 -1.083350\n",
      "            x         y         z\n",
      "995  1.526695  0.963282  0.929112\n",
      "996  0.430274  0.445060  0.945212\n",
      "997  0.190370  0.366364  0.548202\n",
      "998 -0.448977 -0.400381 -0.661205\n",
      "999 -1.962987 -1.763825 -1.654921\n"
     ]
    }
   ],
   "source": [
    "print(dataset.head(5))\n",
    "print(dataset.tail(5))"
   ]
  },
  {
   "cell_type": "markdown",
   "metadata": {},
   "source": [
    " "
   ]
  },
  {
   "cell_type": "markdown",
   "metadata": {},
   "source": [
    "<b>View basic information about the dataset</b>"
   ]
  },
  {
   "cell_type": "code",
   "execution_count": 7,
   "metadata": {},
   "outputs": [
    {
     "name": "stdout",
     "output_type": "stream",
     "text": [
      "<class 'pandas.core.frame.DataFrame'>\n",
      "RangeIndex: 1000 entries, 0 to 999\n",
      "Data columns (total 3 columns):\n",
      "x    1000 non-null float64\n",
      "y    1000 non-null float64\n",
      "z    1000 non-null float64\n",
      "dtypes: float64(3)\n",
      "memory usage: 23.5 KB\n"
     ]
    }
   ],
   "source": [
    "dataset.info()"
   ]
  },
  {
   "cell_type": "markdown",
   "metadata": {},
   "source": [
    " "
   ]
  },
  {
   "cell_type": "markdown",
   "metadata": {},
   "source": [
    "The dataset contains 3 columns (x,y,z) where each column has 1000 entries and no missing values. Great!"
   ]
  },
  {
   "cell_type": "markdown",
   "metadata": {},
   "source": [
    " "
   ]
  },
  {
   "cell_type": "markdown",
   "metadata": {},
   "source": [
    "<b>Dataset statistics</b>"
   ]
  },
  {
   "cell_type": "code",
   "execution_count": 8,
   "metadata": {},
   "outputs": [
    {
     "data": {
      "text/html": [
       "<div>\n",
       "<style scoped>\n",
       "    .dataframe tbody tr th:only-of-type {\n",
       "        vertical-align: middle;\n",
       "    }\n",
       "\n",
       "    .dataframe tbody tr th {\n",
       "        vertical-align: top;\n",
       "    }\n",
       "\n",
       "    .dataframe thead th {\n",
       "        text-align: right;\n",
       "    }\n",
       "</style>\n",
       "<table border=\"1\" class=\"dataframe\">\n",
       "  <thead>\n",
       "    <tr style=\"text-align: right;\">\n",
       "      <th></th>\n",
       "      <th>x</th>\n",
       "      <th>y</th>\n",
       "      <th>z</th>\n",
       "    </tr>\n",
       "  </thead>\n",
       "  <tbody>\n",
       "    <tr>\n",
       "      <th>count</th>\n",
       "      <td>1000.000000</td>\n",
       "      <td>1000.000000</td>\n",
       "      <td>1000.000000</td>\n",
       "    </tr>\n",
       "    <tr>\n",
       "      <th>mean</th>\n",
       "      <td>-0.005196</td>\n",
       "      <td>-0.014451</td>\n",
       "      <td>-0.031426</td>\n",
       "    </tr>\n",
       "    <tr>\n",
       "      <th>std</th>\n",
       "      <td>1.036113</td>\n",
       "      <td>1.052409</td>\n",
       "      <td>1.052807</td>\n",
       "    </tr>\n",
       "    <tr>\n",
       "      <th>min</th>\n",
       "      <td>-5.655540</td>\n",
       "      <td>-5.870240</td>\n",
       "      <td>-5.655540</td>\n",
       "    </tr>\n",
       "    <tr>\n",
       "      <th>25%</th>\n",
       "      <td>-0.702440</td>\n",
       "      <td>-0.675936</td>\n",
       "      <td>-0.723400</td>\n",
       "    </tr>\n",
       "    <tr>\n",
       "      <th>50%</th>\n",
       "      <td>0.013861</td>\n",
       "      <td>-0.034048</td>\n",
       "      <td>-0.038032</td>\n",
       "    </tr>\n",
       "    <tr>\n",
       "      <th>75%</th>\n",
       "      <td>0.662793</td>\n",
       "      <td>0.725451</td>\n",
       "      <td>0.684250</td>\n",
       "    </tr>\n",
       "    <tr>\n",
       "      <th>max</th>\n",
       "      <td>3.449685</td>\n",
       "      <td>3.109915</td>\n",
       "      <td>2.954353</td>\n",
       "    </tr>\n",
       "  </tbody>\n",
       "</table>\n",
       "</div>"
      ],
      "text/plain": [
       "                 x            y            z\n",
       "count  1000.000000  1000.000000  1000.000000\n",
       "mean     -0.005196    -0.014451    -0.031426\n",
       "std       1.036113     1.052409     1.052807\n",
       "min      -5.655540    -5.870240    -5.655540\n",
       "25%      -0.702440    -0.675936    -0.723400\n",
       "50%       0.013861    -0.034048    -0.038032\n",
       "75%       0.662793     0.725451     0.684250\n",
       "max       3.449685     3.109915     2.954353"
      ]
     },
     "execution_count": 8,
     "metadata": {},
     "output_type": "execute_result"
    }
   ],
   "source": [
    "dataset.describe()"
   ]
  },
  {
   "cell_type": "markdown",
   "metadata": {},
   "source": [
    " "
   ]
  },
  {
   "cell_type": "markdown",
   "metadata": {},
   "source": [
    "The table above shows that the mean and standard deviation of every column is very close to 0 and 1 respectively. Hence, we could assume that the dataset is normally distributed"
   ]
  },
  {
   "cell_type": "markdown",
   "metadata": {},
   "source": [
    "<b>Method 1: Z-score Analysis</b>"
   ]
  },
  {
   "cell_type": "markdown",
   "metadata": {},
   "source": [
    "The Z-score tells us how many standard deviations above or below the mean a particular data point or observation.\n",
    "\n",
    "NOTE: In a normally distributed data, 68% falls within 1 standard deviation from the mean, 95% falls within 2 standard deviations from the mean, and 99.7% falls within 3 standard deviations from the mean. In addition, any data point outside 3 standard deviations can be considered an outlier (i.e. Z-score > 3 or Z-score < -3)."
   ]
  },
  {
   "cell_type": "markdown",
   "metadata": {},
   "source": [
    "With this idea, we can then compute the Z-scores of every column in our dataset using the Scipy library."
   ]
  },
  {
   "cell_type": "code",
   "execution_count": 11,
   "metadata": {},
   "outputs": [],
   "source": [
    "from scipy import stats"
   ]
  },
  {
   "cell_type": "code",
   "execution_count": 13,
   "metadata": {},
   "outputs": [
    {
     "name": "stdout",
     "output_type": "stream",
     "text": [
      "[[0.32445894 0.29917961 0.07992614]\n",
      " [0.60319986 0.4440557  0.046013  ]\n",
      " [0.80795034 0.91791246 0.15189366]\n",
      " ...\n",
      " [0.18884415 0.36203141 0.5508298 ]\n",
      " [0.42852728 0.36689392 0.59849034]\n",
      " [1.89049862 1.66308734 1.54283454]]\n"
     ]
    }
   ],
   "source": [
    "#compute for the Z-scores\n",
    "Z = np.abs(stats.zscore(dataset))\n",
    "print(Z)"
   ]
  },
  {
   "cell_type": "markdown",
   "metadata": {},
   "source": [
    " "
   ]
  },
  {
   "cell_type": "markdown",
   "metadata": {},
   "source": [
    "We will define a threshold to filter which observations have an absolute Z-score greater than 3."
   ]
  },
  {
   "cell_type": "code",
   "execution_count": 15,
   "metadata": {},
   "outputs": [
    {
     "name": "stdout",
     "output_type": "stream",
     "text": [
      "[104 104 104 180 180 321 360]\n",
      " \n",
      "[0 1 2 1 2 0 0]\n"
     ]
    }
   ],
   "source": [
    "#set threshold\n",
    "threshold = 3\n",
    "\n",
    "#returns an array which corresponds to the row and column index of an outlier\n",
    "row, column = np.where(Z>threshold)\n",
    "\n",
    "print(row)\n",
    "print(' ')\n",
    "print(column)"
   ]
  },
  {
   "cell_type": "markdown",
   "metadata": {},
   "source": [
    " "
   ]
  },
  {
   "cell_type": "markdown",
   "metadata": {},
   "source": [
    "We can combine these arrays to form an ordered pair which points us to the outliers in our dataset."
   ]
  },
  {
   "cell_type": "code",
   "execution_count": 17,
   "metadata": {},
   "outputs": [
    {
     "data": {
      "text/plain": [
       "[(104, 0), (104, 1), (104, 2), (180, 1), (180, 2), (321, 0), (360, 0)]"
      ]
     },
     "execution_count": 17,
     "metadata": {},
     "output_type": "execute_result"
    }
   ],
   "source": [
    "#combine row and column arrays using zip function\n",
    "outlier_coordinates = [(x,y) for x,y in zip(row,column)]\n",
    "outlier_coordinates"
   ]
  },
  {
   "cell_type": "markdown",
   "metadata": {},
   "source": [
    " "
   ]
  },
  {
   "cell_type": "markdown",
   "metadata": {},
   "source": [
    "Interpretation: Let's take a look at the first 3 entries in the list (104,0),(104,1),(104,2). This means that the data point on the 104th row index is an outlier in the perpective of columns 0,1, and 2."
   ]
  },
  {
   "cell_type": "code",
   "execution_count": 29,
   "metadata": {},
   "outputs": [
    {
     "name": "stdout",
     "output_type": "stream",
     "text": [
      "Z-score of 104th row index with respect to X column is: 5.456132627729134\n",
      "Z-score of 104th row index with respect to Y column is: 5.566957376046525\n",
      "Z-score of 104th row index with respect to X column is: 5.344690726434698\n"
     ]
    }
   ],
   "source": [
    "print(\"Z-score of 104th row index with respect to X column is: {}\".format(Z[104][0]))\n",
    "print(\"Z-score of 104th row index with respect to Y column is: {}\".format(Z[104][1]))\n",
    "print(\"Z-score of 104th row index with respect to X column is: {}\".format(Z[104][2]))"
   ]
  },
  {
   "cell_type": "code",
   "execution_count": 34,
   "metadata": {},
   "outputs": [
    {
     "data": {
      "text/plain": [
       "x   -5.65554\n",
       "y   -5.87024\n",
       "z   -5.65554\n",
       "Name: 104, dtype: float64"
      ]
     },
     "execution_count": 34,
     "metadata": {},
     "output_type": "execute_result"
    }
   ],
   "source": [
    "dataset.iloc[104]"
   ]
  },
  {
   "cell_type": "code",
   "execution_count": 35,
   "metadata": {},
   "outputs": [
    {
     "data": {
      "text/plain": [
       "x   -2.972287\n",
       "y   -3.648337\n",
       "z   -3.393292\n",
       "Name: 180, dtype: float64"
      ]
     },
     "execution_count": 35,
     "metadata": {},
     "output_type": "execute_result"
    }
   ],
   "source": [
    "dataset.iloc[180]"
   ]
  },
  {
   "cell_type": "code",
   "execution_count": 36,
   "metadata": {},
   "outputs": [
    {
     "data": {
      "text/plain": [
       "x    3.395739\n",
       "y    3.109915\n",
       "z    1.955172\n",
       "Name: 321, dtype: float64"
      ]
     },
     "execution_count": 36,
     "metadata": {},
     "output_type": "execute_result"
    }
   ],
   "source": [
    "dataset.iloc[321]"
   ]
  },
  {
   "cell_type": "code",
   "execution_count": 37,
   "metadata": {},
   "outputs": [
    {
     "data": {
      "text/plain": [
       "x    3.449685\n",
       "y    2.990145\n",
       "z    2.575557\n",
       "Name: 360, dtype: float64"
      ]
     },
     "execution_count": 37,
     "metadata": {},
     "output_type": "execute_result"
    }
   ],
   "source": [
    "dataset.iloc[360]"
   ]
  },
  {
   "cell_type": "code",
   "execution_count": 41,
   "metadata": {},
   "outputs": [
    {
     "name": "stdout",
     "output_type": "stream",
     "text": [
      "List of Features:\n",
      "['x', 'y', 'z']\n",
      "\n",
      "Explained Variance: [0.91386244 0.06543133]\n",
      "\n",
      "For the Transformed Component:\n",
      "[[-0.56341364 -0.59478892 -0.57340319]\n",
      " [-0.70334995 -0.01879756  0.71059517]]\n"
     ]
    }
   ],
   "source": [
    "# To Import the Class of PCA\n",
    "from sklearn.decomposition import PCA\n",
    "\n",
    "# For the List of Features\n",
    "features = ['x','y','z']\n",
    "print('List of Features:')\n",
    "print(features)\n",
    "print('')\n",
    "\n",
    "# To Perform Feature Selection with PCA\n",
    "selection_method_pca = PCA(n_components=2)\n",
    "selection_fit_pca = selection_method_pca.fit(dataset)\n",
    "\n",
    "# To Summarize the Principal Components\n",
    "explained_variance = selection_fit_pca.explained_variance_ratio_\n",
    "print(\"Explained Variance: %s\" % explained_variance)\n",
    "print('')\n",
    "\n",
    "print(\"For the Transformed Component:\")\n",
    "components = selection_fit_pca.components_\n",
    "print(components)"
   ]
  },
  {
   "cell_type": "code",
   "execution_count": 45,
   "metadata": {},
   "outputs": [
    {
     "data": {
      "image/png": "[encoded data removed]",
      "text/plain": [
       "<Figure size 432x288 with 1 Axes>"
      ]
     },
     "metadata": {
      "needs_background": "light"
     },
     "output_type": "display_data"
    }
   ],
   "source": [
    "from mpl_toolkits import mplot3d\n",
    "\n",
    "import numpy as np\n",
    "import matplotlib.pyplot as plt\n",
    "\n",
    "fig = plt.figure()\n",
    "ax = plt.axes(projection=\"3d\")\n",
    "\n",
    "plt.show()"
   ]
  },
  {
   "cell_type": "code",
   "execution_count": 50,
   "metadata": {},
   "outputs": [],
   "source": [
    "x_axis = dataset.iloc[:, 0]"
   ]
  },
  {
   "cell_type": "code",
   "execution_count": 51,
   "metadata": {},
   "outputs": [],
   "source": [
    "y_axis = dataset.iloc[:, 1]"
   ]
  },
  {
   "cell_type": "code",
   "execution_count": 52,
   "metadata": {},
   "outputs": [],
   "source": [
    "z_axis = dataset.iloc[:, 2]"
   ]
  },
  {
   "cell_type": "code",
   "execution_count": 59,
   "metadata": {},
   "outputs": [
    {
     "data": {
      "image/png": "[encoded data removed]",
      "text/plain": [
       "<Figure size 432x288 with 1 Axes>"
      ]
     },
     "metadata": {
      "needs_background": "light"
     },
     "output_type": "display_data"
    }
   ],
   "source": [
    "from mpl_toolkits import mplot3d\n",
    "\n",
    "import numpy as np\n",
    "import matplotlib.pyplot as plt\n",
    "\n",
    "fig = plt.figure()\n",
    "ax = plt.axes(projection=\"3d\")\n",
    "\n",
    "plt.show()"
   ]
  },
  {
   "cell_type": "code",
   "execution_count": 65,
   "metadata": {},
   "outputs": [
    {
     "data": {
      "image/png": "[encoded data removed]",
      "text/plain": [
       "<Figure size 432x288 with 1 Axes>"
      ]
     },
     "metadata": {
      "needs_background": "light"
     },
     "output_type": "display_data"
    }
   ],
   "source": [
    "%matplotlib inline\n",
    "\n",
    "fig = plt.figure()\n",
    "ax = plt.axes(projection=\"3d\")\n",
    "\n",
    "#ax.plot3D(x_axis, y_axis, z_axis, 'gray')\n",
    "\n",
    "ax.scatter3D(x_axis, y_axis, z_axis, c=x_axis, cmap='hsv');\n",
    "\n",
    "plt.show()"
   ]
  },
  {
   "cell_type": "code",
   "execution_count": null,
   "metadata": {},
   "outputs": [],
   "source": []
  }
 ],
 "metadata": {
  "kernelspec": {
   "display_name": "Python 3",
   "language": "python",
   "name": "python3"
  },
  "language_info": {
   "codemirror_mode": {
    "name": "ipython",
    "version": 3
   },
   "file_extension": ".py",
   "mimetype": "text/x-python",
   "name": "python",
   "nbconvert_exporter": "python",
   "pygments_lexer": "ipython3",
   "version": "3.6.8"
  }
 },
 "nbformat": 4,
 "nbformat_minor": 4
}
